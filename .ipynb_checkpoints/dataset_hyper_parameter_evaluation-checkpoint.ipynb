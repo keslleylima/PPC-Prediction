{
 "cells": [
  {
   "cell_type": "markdown",
   "metadata": {},
   "source": [
    "# Validation curves (seleção de parametros para tuning)"
   ]
  },
  {
   "cell_type": "code",
   "execution_count": 1,
   "metadata": {},
   "outputs": [],
   "source": [
    "from sklearn.model_selection import validation_curve, RandomizedSearchCV"
   ]
  },
  {
   "cell_type": "code",
   "execution_count": null,
   "metadata": {},
   "outputs": [],
   "source": [
    "class HyperParameterPpcEvaluator:\n",
    "    def __init__(self, dataset, regressor):\n",
    "        self.__dataset = dataset.get_dataframe()\n",
    "        self.__regressor = regressor\n",
    "        \n",
    "    def evaluate_validation_curve(self, metrics):\n",
    "        self.__evaluate_validation_curve('n_estimators', [50, 100, 150, 200, 250, 300], metrics)\n",
    "        self.__evaluate_validation_curve('criterion', ['mse', 'mae'], metrics)\n",
    "        self.__evaluate_validation_curve('max_depth', [x for x in np.linspace(10, 110, num = 10, dtype=int)], metrics)\n",
    "        self.__evaluate_validation_curve('min_samples_split', [2, 5, 10], metrics)\n",
    "        self.__evaluate_validation_curve('min_samples_leaf', [1, 2, 4], metrics)\n",
    "        self.__evaluate_validation_curve('min_weight_fraction_leaf', [x for x in np.linspace(0.0, 0.49, 5, dtype=float)], metrics)\n",
    "        self.__evaluate_validation_curve('max_features', ['auto', 'sqrt', 'log2'], metrics)\n",
    "        self.__evaluate_validation_curve('max_leaf_nodes', [x for x in np.linspace(10, 110, num = 11, dtype=int)], metrics)\n",
    "        self.__evaluate_validation_curve('min_impurity_decrease', [x for x in np.linspace(0.0, 5.0, 20)], metrics)\n",
    "        self.__evaluate_validation_curve('bootstrap', [True, False], metrics)\n",
    "        \n",
    "    def __evaluate_validation_curve(self, param_name, param_range, metrics):\n",
    "        train_scoreNum, test_scoreNum = validation_curve(\n",
    "                self.__regressor,\n",
    "                X = self.__dataset[metrics].values, \n",
    "                y = self.__dataset['PrimePathCoverage'].values, \n",
    "                param_name = param_name, \n",
    "                param_range = param_range, cv = 10\n",
    "        )\n",
    "\n",
    "        self.__plot_validation_curve(train_scoreNum, test_scoreNum, param_range, param_name)\n",
    "        \n",
    "    def __plot_validation_curve(self, train_score, test_score, param_range, param_name):\n",
    "        train_scores_mean = np.mean(train_score, axis=1)\n",
    "        train_scores_std = np.std(train_score, axis=1)\n",
    "        test_scores_mean = np.mean(test_score, axis=1)\n",
    "        test_scores_std = np.std(test_score, axis=1)\n",
    "\n",
    "        plt.title(\"Validation Curve - \" + param_name)\n",
    "        plt.xlabel(r\"$\\gamma$\")\n",
    "        plt.ylabel(\"Score\")\n",
    "        plt.ylim(0.0, 1.1)\n",
    "        lw = 2\n",
    "        plt.semilogx(param_range, train_scores_mean, label=\"Training score\",\n",
    "                     color=\"darkorange\", lw=lw)\n",
    "        plt.fill_between(param_range, train_scores_mean - train_scores_std,\n",
    "                         train_scores_mean + train_scores_std, alpha=0.2,\n",
    "                         color=\"darkorange\", lw=lw)\n",
    "        plt.semilogx(param_range, test_scores_mean, label=\"Cross-validation score\",\n",
    "                     color=\"navy\", lw=lw)\n",
    "        plt.fill_between(param_range, test_scores_mean - test_scores_std,\n",
    "                         test_scores_mean + test_scores_std, alpha=0.2,\n",
    "                         color=\"navy\", lw=lw)\n",
    "        plt.legend(loc=\"best\")\n",
    "        plt.show()\n",
    "        \n",
    "    def evaluate_hyperparam(self, metrics, hyperparam_space):\n",
    "        random_search = RandomizedSearchCV(\n",
    "            estimator=RandomForestRegressor(), \n",
    "            param_distributions=hyperparam_space,\n",
    "            n_iter=100,\n",
    "            cv=10,\n",
    "            random_state=0\n",
    "        )\n",
    "\n",
    "        random_search.fit(self.__dataset[metrics].values, self.__dataset['PrimePathCoverage'].values)\n",
    "\n",
    "        display(random_search.best_params_)\n",
    "        "
   ]
  }
 ],
 "metadata": {
  "kernelspec": {
   "display_name": "Python 3",
   "language": "python",
   "name": "python3"
  },
  "language_info": {
   "codemirror_mode": {
    "name": "ipython",
    "version": 3
   },
   "file_extension": ".py",
   "mimetype": "text/x-python",
   "name": "python",
   "nbconvert_exporter": "python",
   "pygments_lexer": "ipython3",
   "version": "3.8.3"
  }
 },
 "nbformat": 4,
 "nbformat_minor": 4
}
