{
 "cells": [
  {
   "cell_type": "markdown",
   "metadata": {},
   "source": [
    "# Imports"
   ]
  },
  {
   "cell_type": "code",
   "execution_count": 1,
   "metadata": {},
   "outputs": [],
   "source": [
    "import math"
   ]
  },
  {
   "cell_type": "markdown",
   "metadata": {},
   "source": [
    "# MathUtils"
   ]
  },
  {
   "cell_type": "code",
   "execution_count": 2,
   "metadata": {},
   "outputs": [],
   "source": [
    "class MathUtils:\n",
    "    \"\"\"\n",
    "    Responsible for providing auxiliary mathematical functions.\n",
    "    \"\"\"\n",
    "    \n",
    "    # -------------------------------------------------------------------------\n",
    "    #           Methods\n",
    "    # -------------------------------------------------------------------------\n",
    "    @staticmethod\n",
    "    def truncate(number: float, digits: int) -> float:\n",
    "        \"\"\"\n",
    "        Truncates a number.\n",
    "        \n",
    "        :param      number: Number to be truncated\n",
    "        :param      digits: Total digits that will be preserved after truncation \n",
    "        \n",
    "        :return:    Truncated number\n",
    "        \"\"\"\n",
    "        stepper = 10.0 ** digits\n",
    "        \n",
    "        return math.trunc(stepper * number) / stepper"
   ]
  }
 ],
 "metadata": {
  "kernelspec": {
   "display_name": "Python 3",
   "language": "python",
   "name": "python3"
  },
  "language_info": {
   "codemirror_mode": {
    "name": "ipython",
    "version": 3
   },
   "file_extension": ".py",
   "mimetype": "text/x-python",
   "name": "python",
   "nbconvert_exporter": "python",
   "pygments_lexer": "ipython3",
   "version": "3.9.5"
  }
 },
 "nbformat": 4,
 "nbformat_minor": 4
}
