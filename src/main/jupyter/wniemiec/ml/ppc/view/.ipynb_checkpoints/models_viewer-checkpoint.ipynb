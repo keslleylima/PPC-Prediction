{
 "cells": [
  {
   "cell_type": "markdown",
   "metadata": {},
   "source": [
    "# Imports"
   ]
  },
  {
   "cell_type": "code",
   "execution_count": null,
   "metadata": {},
   "outputs": [],
   "source": [
    "import seaborn as sns"
   ]
  },
  {
   "cell_type": "markdown",
   "metadata": {},
   "source": [
    "# ModelsViewer"
   ]
  },
  {
   "cell_type": "code",
   "execution_count": 1,
   "metadata": {},
   "outputs": [],
   "source": [
    "class ModelsViewer:\n",
    "    \n",
    "    export_path = '../../../../../../out'\n",
    "    \n",
    "    @staticmethod\n",
    "    def display_error_by_cyclomatic(predict_table, filename):\n",
    "        fg = sns.FacetGrid(data=predict_table, col='Model')\n",
    "        fg = fg.map(plt.hexbin, 'Cyclomatic', 'Error', extent=[0, 20, 0, 1], gridsize=10,cmap='Blues', edgecolors='none', linewidths=0.0)\n",
    "        fg.axes[0,0].set_xlabel('Cyclomatic')\n",
    "        fg.axes[0,0].set_ylabel('Error')\n",
    "        fg.axes[0,1].set_xlabel('Cyclomatic')\n",
    "        fg.axes[0,1].set_ylabel('Error')\n",
    "        plt.savefig(ModelsViewer.export_path + '/' + 'error_by_cyclomatic-' + filename, dpi=300)\n",
    "    \n",
    "    @staticmethod\n",
    "    def display_ppc_correct_by_ppc_predict(predict_table, filename):\n",
    "        fg = sns.FacetGrid(data=predict_table, col='Model')\n",
    "        fg.map(sns.scatterplot, 'PPC predict', 'PPC correct')\n",
    "        plt.savefig(ModelsViewer.export_path + '/' + 'ppc_correct_by_ppc_predict-' + filename, dpi=300)"
   ]
  }
 ],
 "metadata": {
  "kernelspec": {
   "display_name": "Python 3",
   "language": "python",
   "name": "python3"
  },
  "language_info": {
   "codemirror_mode": {
    "name": "ipython",
    "version": 3
   },
   "file_extension": ".py",
   "mimetype": "text/x-python",
   "name": "python",
   "nbconvert_exporter": "python",
   "pygments_lexer": "ipython3",
   "version": "3.8.3"
  }
 },
 "nbformat": 4,
 "nbformat_minor": 4
}
