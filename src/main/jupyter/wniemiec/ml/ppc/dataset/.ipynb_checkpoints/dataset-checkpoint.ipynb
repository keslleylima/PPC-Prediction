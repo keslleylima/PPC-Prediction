{
 "cells": [
  {
   "cell_type": "markdown",
   "metadata": {},
   "source": [
    "# Imports"
   ]
  },
  {
   "cell_type": "code",
   "execution_count": null,
   "metadata": {},
   "outputs": [],
   "source": [
    "try:\n",
    "    %run ../util/MathUtils.ipynb\n",
    "except:\n",
    "    pass\n",
    "\n",
    "import pandas as pd\n",
    "import numpy as np\n",
    "from imblearn.under_sampling import RandomUnderSampler"
   ]
  },
  {
   "cell_type": "markdown",
   "metadata": {},
   "source": [
    "# CoverageDataset"
   ]
  },
  {
   "cell_type": "code",
   "execution_count": 54,
   "metadata": {},
   "outputs": [],
   "source": [
    "class CoverageDataset:\n",
    "    \"\"\"\n",
    "    Responsible for managing datasets related to test coverage.\n",
    "    \"\"\"\n",
    "    \n",
    "    def __init__(self, dataset_filepath: str):\n",
    "        \"\"\"\n",
    "        Manages datasets related to test coverage.\n",
    "        \n",
    "        :param      dataset_filepath Dataset file location\n",
    "        \"\"\"\n",
    "        self.__dataset = None\n",
    "        self.__load_dataset(dataset_filepath)\n",
    "    \n",
    "    def __load_dataset(self, name):\n",
    "        self.__dataset = pd.read_csv(name, sep=';')\n",
    "\n",
    "    def under_sampling(self, sampling):\n",
    "        rus = RandomUnderSampler(random_state=0, sampling_strategy=sampling)\n",
    "        X_res, y_res = rus.fit_resample(\n",
    "                pd.DataFrame(self.__dataset.index.array)[0].values.reshape(-1,1), \n",
    "                self.__dataset['Cyclomatic'].values\n",
    "        )\n",
    "\n",
    "        self.__dataset['idx'] = self.__dataset.index\n",
    "        idx_selected = X_res.reshape(1,-1)[0]\n",
    "        self.__dataset['selected'] = self.__dataset['idx'].apply(lambda idx: idx in idx_selected)\n",
    "        self.__dataset = self.__dataset[self.__dataset['selected']]\n",
    "        self.__dataset = self.__dataset.drop('idx', axis=1)\n",
    "        self.__dataset = self.__dataset.drop('selected', axis=1)\n",
    "\n",
    "    def remove_last_column(self):\n",
    "        self.__dataset = self.__dataset.iloc[:,:-1]\n",
    "\n",
    "    def remove_nan(self):\n",
    "        self.__dataset = self.__dataset.dropna()\n",
    "\n",
    "    def convert_coverage_metrics_to_float(self):\n",
    "        self.__dataset.iloc[:,-1] = self.__dataset.iloc[:,-1].apply(lambda ppc: float(ppc.replace(',', '.')) if type(ppc) == str else ppc)\n",
    "        self.__dataset.iloc[:,-2] = self.__dataset.iloc[:,-2].apply(lambda ec: float(ec.replace(',', '.')) if type(ec) == str else ppc)\n",
    "\n",
    "    def remove_coverage_metrics_with_both_zero(self):\n",
    "        self.__dataset = self.__dataset[(self.__dataset['EdgeCoverage'] != 0) | (self.__dataset['PrimePathCoverage'] != 0)]\n",
    "\n",
    "    def select_metrics(self, metrics):\n",
    "        self.__dataset = self.__dataset[metrics]\n",
    "\n",
    "    def remove_ppc_greater_than_ec(self):\n",
    "        self.__dataset = self.__dataset[(self.__dataset['PrimePathCoverage'] <= self.__dataset['EdgeCoverage'])]\n",
    "\n",
    "    def remove_ppc_between(self, start, end):\n",
    "        self.__dataset = self.__dataset[(self.__dataset['PrimePathCoverage'] < start) | (self.__dataset['PrimePathCoverage'] > end)]\n",
    "        \n",
    "    def get_dataframe(self):\n",
    "        return self.__dataset\n",
    "    \n",
    "    def truncate_ppc(self, precision):\n",
    "        self.__dataset['PrimePathCoverage'] = self.__dataset['PrimePathCoverage'].apply(lambda ppc: MathUtils.truncate(ppc, precision))"
   ]
  }
 ],
 "metadata": {
  "kernelspec": {
   "display_name": "Python 3",
   "language": "python",
   "name": "python3"
  },
  "language_info": {
   "codemirror_mode": {
    "name": "ipython",
    "version": 3
   },
   "file_extension": ".py",
   "mimetype": "text/x-python",
   "name": "python",
   "nbconvert_exporter": "python",
   "pygments_lexer": "ipython3",
   "version": "3.8.3"
  }
 },
 "nbformat": 4,
 "nbformat_minor": 5
}
